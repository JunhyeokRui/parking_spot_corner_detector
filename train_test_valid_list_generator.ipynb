{
 "cells": [
  {
   "cell_type": "code",
   "execution_count": 5,
   "metadata": {},
   "outputs": [],
   "source": [
    "import os"
   ]
  },
  {
   "cell_type": "code",
   "execution_count": 6,
   "metadata": {},
   "outputs": [],
   "source": [
    "path = os.path.join('../AVM_center_data_3class')\n",
    "\n",
    "train = ['A','B','C','D']\n",
    "test = ['D']\n",
    "valid = []\n",
    "\n",
    "run = '3class_ABCD_D_none'\n",
    "\n",
    "txt_path = os.path.join('data',run)\n",
    "os.makedirs(txt_path,exist_ok = True)\n",
    "\n",
    "train_txt  = open(os.path.join(txt_path,'train.txt'),'w')\n",
    "test_txt  = open(os.path.join(txt_path,'test.txt'),'w')\n",
    "# valid_txt  = open(os.path.join(txt_path,'valid.txt'),'w')\n",
    "\n",
    "train_txt.seek(0) \n",
    "test_txt.seek(0)\n",
    "# valid_txt.seek(0)\n",
    "\n",
    "for this_trial in os.listdir(os.path.join(path,'images')):\n",
    "    if 'trial' in this_trial:\n",
    "        for this_image in os.listdir(os.path.join(path,'images',this_trial)):\n",
    "            if 'jpeg' in this_image and os.path.isfile(os.path.join(path,'labels',this_trial,'{}.txt'.format(this_image[:-5]))):\n",
    "                if this_trial[6] in train:\n",
    "                    train_txt.write('../AVM_center_data_3class/images/{}/{}\\n'.format(this_trial,this_image))\n",
    "                if this_trial[6] in test:\n",
    "                    test_txt.write('../AVM_center_data_3class/images/{}/{}\\n'.format(this_trial,this_image))\n",
    "                # elif this_trial[6] in valid:\n",
    "                #     valid_txt.write('/home/dyros/yhpark/yolo_data/images/{}/{}\\n'.format(this_trial,this_image))"
   ]
  },
  {
   "cell_type": "code",
   "execution_count": null,
   "metadata": {},
   "outputs": [],
   "source": []
  },
  {
   "cell_type": "code",
   "execution_count": null,
   "metadata": {},
   "outputs": [],
   "source": []
  }
 ],
 "metadata": {
  "interpreter": {
   "hash": "330a652322aaeff1f3f745d604e28117983ffd814983967a6a2ed5ecf48f75fd"
  },
  "kernelspec": {
   "display_name": "Python 3",
   "language": "python",
   "name": "python3"
  },
  "language_info": {
   "codemirror_mode": {
    "name": "ipython",
    "version": 3
   },
   "file_extension": ".py",
   "mimetype": "text/x-python",
   "name": "python",
   "nbconvert_exporter": "python",
   "pygments_lexer": "ipython3",
   "version": "3.8.8"
  }
 },
 "nbformat": 4,
 "nbformat_minor": 4
}
