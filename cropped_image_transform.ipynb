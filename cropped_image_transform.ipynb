{
 "cells": [
  {
   "cell_type": "code",
   "execution_count": 150,
   "source": [
    "import PIL\n",
    "import cv2\n",
    "import matplotlib.pyplot as plt\n",
    "import numpy as np\n",
    "import os\n",
    "from tqdm import tqdm"
   ],
   "outputs": [],
   "metadata": {}
  },
  {
   "cell_type": "code",
   "execution_count": 218,
   "source": [
    "base_path = './runs/detect/AVM_400_train_ABC_test_A_save_crop_pad_100/crops'\n",
    "new_path = '../hough_results/images/trial_A/'\n",
    "os.makedirs(new_path,exist_ok = True)\n"
   ],
   "outputs": [],
   "metadata": {}
  },
  {
   "cell_type": "code",
   "execution_count": 231,
   "source": [
    "failures = 0\n",
    "for this_class in os.listdir(base_path):\n",
    "    print(this_class)\n",
    "    os.makedirs(os.path.join(new_path,this_class),exist_ok = True)\n",
    "\n",
    "    for this_image in tqdm(os.listdir(os.path.join(base_path, this_class))):\n",
    "        # print(this_image)\n",
    "        img = cv2.imread(os.path.join(base_path, this_class, this_image))\n",
    "        # kernel = np.array([[-1,-1,-1], [-1,9,-1], [-1,-1,-1]])\n",
    "        # img = cv2.filter2D(img, -1, kernel)\n",
    "\n",
    "        # contrast_img = change_contrast(img, 100)\n",
    "        # binary_img = np.zeros_like(np.array(img)[:,:,0])\n",
    "        # for i in range(np.array(contrast_img).shape[0]):\n",
    "        #     for j in range(np.array(contrast_img).shape[1]):\n",
    "        #         if np.linalg.norm(np.array(contrast_img)[i,j,:] - np.array([255,0,255]))<100:\n",
    "        #             # print(np.array(new_img)[i,j,:])\n",
    "        #             binary_img[i,j] = 0 #np.array([0,])\n",
    "        #         else:\n",
    "        #             binary_img[i,j] = 1 # np.array([255,255,255])\n",
    "        img_canny = cv2.Canny(img, 50,100)\n",
    "        try:\n",
    "            lines = cv2.HoughLinesP(img_canny, 1,np.pi/180,5, np.array([]), 30, 5)\n",
    "            # contrast_img.save(os.path.join(new_path,this_class, '{}_high_contrast.jpeg'.format(this_image[:-5])))\n",
    "\n",
    "            print_img = img.copy()\n",
    "            points = []\n",
    "            for line in lines:\n",
    "                for x1, y1, x2, y2 in line:\n",
    "                    points.append(((x1 + 0.0, y1 + 0.0), (x2 + 0.0, y2 + 0.0)))\n",
    "                    cv2.line(print_img, (x1, y1), (x2, y2), (255, 0, 0), 1)\n",
    "\n",
    "            cv2.imwrite(os.path.join(new_path,this_class, '{}_hough_lines.jpeg'.format(this_image[:-5])), print_img)\n",
    "            cv2.imwrite(os.path.join(new_path,this_class, '{}_canny_edges.jpeg'.format(this_image[:-5])), img_canny)\n",
    "\n",
    "        except:\n",
    "            cv2.imwrite(os.path.join(new_path,this_class, '{}_hough_lines.jpeg'.format(this_image[:-5])), img)\n",
    "            cv2.imwrite(os.path.join(new_path,this_class, '{}_canny_edges.jpeg'.format(this_image[:-5])), img_canny)\n",
    "            failures +=1 \n",
    "\n",
    "        # plt.imsave(os.path.join(new_path,this_class,'{}_binary.jpeg'.format(this_image[:-5])), binary_img, cmap='gray')\n",
    "\n",
    "print(failures)\n",
    "                # pass"
   ],
   "outputs": [
    {
     "output_type": "stream",
     "name": "stdout",
     "text": [
      "front\n"
     ]
    },
    {
     "output_type": "stream",
     "name": "stderr",
     "text": [
      "100%|██████████| 458/458 [00:00<00:00, 788.31it/s]\n"
     ]
    },
    {
     "output_type": "stream",
     "name": "stdout",
     "text": [
      "back\n"
     ]
    },
    {
     "output_type": "stream",
     "name": "stderr",
     "text": [
      "100%|██████████| 362/362 [00:00<00:00, 683.00it/s]"
     ]
    },
    {
     "output_type": "stream",
     "name": "stdout",
     "text": [
      "0\n"
     ]
    },
    {
     "output_type": "stream",
     "name": "stderr",
     "text": [
      "\n"
     ]
    }
   ],
   "metadata": {}
  },
  {
   "cell_type": "code",
   "execution_count": 1,
   "source": [
    "import cv2\n",
    "import matplotlib.pyplot as plt"
   ],
   "outputs": [],
   "metadata": {}
  },
  {
   "cell_type": "code",
   "execution_count": 58,
   "source": [
    "img = cv2.imread('/home/dyros/yhpark/parking_spot_corner_detector/runs/detect/AVM_400_train_ABC_test_A_save_crop_pad_40/crops/back/new_image_120.jpg')"
   ],
   "outputs": [],
   "metadata": {}
  },
  {
   "cell_type": "code",
   "execution_count": 59,
   "source": [
    "plt.imshow(img)"
   ],
   "outputs": [
    {
     "output_type": "execute_result",
     "data": {
      "text/plain": [
       "<matplotlib.image.AxesImage at 0x7fbc36dafa50>"
      ]
     },
     "metadata": {},
     "execution_count": 59
    },
    {
     "output_type": "display_data",
     "data": {
      "text/plain": [
       "<Figure size 432x288 with 1 Axes>"
      ],
      "image/png": "[encoded data removed]"
     },
     "metadata": {
      "needs_background": "light"
     }
    }
   ],
   "metadata": {}
  },
  {
   "cell_type": "code",
   "execution_count": 60,
   "source": [
    "import numpy as np"
   ],
   "outputs": [],
   "metadata": {}
  },
  {
   "cell_type": "code",
   "execution_count": 61,
   "source": [
    "new_img = np.zeros(img.shape[:-1])\n",
    "for i in range(img.shape[0]):\n",
    "    for j in range(img.shape[1]):\n",
    "        if img[i,j,0]<105 or img[i,j,1]>125 or img[i,j,2]<150:\n",
    "            new_img[i,j,0]=0\n",
    "            new_img[i,j,1]=0\n",
    "            new_img[i,j,2]=0\n",
    "        else:\n",
    "\n",
    "\n"
   ],
   "outputs": [],
   "metadata": {}
  },
  {
   "cell_type": "code",
   "execution_count": 62,
   "source": [
    "plt.imshow(new_img)"
   ],
   "outputs": [
    {
     "output_type": "execute_result",
     "data": {
      "text/plain": [
       "<matplotlib.image.AxesImage at 0x7fbc36d70c10>"
      ]
     },
     "metadata": {},
     "execution_count": 62
    },
    {
     "output_type": "display_data",
     "data": {
      "text/plain": [
       "<Figure size 432x288 with 1 Axes>"
      ],
      "image/png": "[encoded data removed]"
     },
     "metadata": {
      "needs_background": "light"
     }
    }
   ],
   "metadata": {}
  },
  {
   "cell_type": "code",
   "execution_count": 173,
   "source": [
    "plt.imshow(img_canny, cmap='gray')"
   ],
   "outputs": [
    {
     "output_type": "execute_result",
     "data": {
      "text/plain": [
       "<matplotlib.image.AxesImage at 0x7f33132dd4d0>"
      ]
     },
     "metadata": {},
     "execution_count": 173
    },
    {
     "output_type": "display_data",
     "data": {
      "text/plain": [
       "<Figure size 432x288 with 1 Axes>"
      ],
      "image/png": "[encoded data removed]"
     },
     "metadata": {
      "needs_background": "light"
     }
    }
   ],
   "metadata": {}
  },
  {
   "cell_type": "code",
   "execution_count": 174,
   "source": [
    "plt.imshow(img_canny,cmap='gray')"
   ],
   "outputs": [
    {
     "output_type": "execute_result",
     "data": {
      "text/plain": [
       "<matplotlib.image.AxesImage at 0x7f331325c590>"
      ]
     },
     "metadata": {},
     "execution_count": 174
    },
    {
     "output_type": "display_data",
     "data": {
      "text/plain": [
       "<Figure size 432x288 with 1 Axes>"
      ],
      "image/png": "[encoded data removed]"
     },
     "metadata": {
      "needs_background": "light"
     }
    }
   ],
   "metadata": {}
  },
  {
   "cell_type": "code",
   "execution_count": 208,
   "source": [
    "lines = cv2.HoughLinesP(img_canny, 1,np.pi/180,12, np.array([]), 15, 10)\n",
    "# lines = cv2.HoughLinesP(img_canny, 1,np.pi/180,10)"
   ],
   "outputs": [],
   "metadata": {}
  },
  {
   "cell_type": "code",
   "execution_count": 209,
   "source": [
    "lines"
   ],
   "outputs": [
    {
     "output_type": "execute_result",
     "data": {
      "text/plain": [
       "array([[[23, 48, 34,  6]],\n",
       "\n",
       "       [[ 2, 19, 27, 24]],\n",
       "\n",
       "       [[ 0, 31, 42,  8]],\n",
       "\n",
       "       [[ 5, 24, 28, 32]],\n",
       "\n",
       "       [[19, 50, 32,  1]],\n",
       "\n",
       "       [[16, 26, 29, 47]],\n",
       "\n",
       "       [[45, 50, 50, 30]],\n",
       "\n",
       "       [[32, 10, 49, 12]],\n",
       "\n",
       "       [[21, 32, 28, 11]],\n",
       "\n",
       "       [[25, 37, 34,  1]],\n",
       "\n",
       "       [[ 3, 27, 45,  9]],\n",
       "\n",
       "       [[ 0, 29, 23, 28]]], dtype=int32)"
      ]
     },
     "metadata": {},
     "execution_count": 209
    }
   ],
   "metadata": {}
  },
  {
   "cell_type": "code",
   "execution_count": 210,
   "source": [
    "print_img = img.copy()\n",
    "points = []\n",
    "for line in lines:\n",
    "    for x1, y1, x2, y2 in line:\n",
    "        points.append(((x1 + 0.0, y1 + 0.0), (x2 + 0.0, y2 + 0.0)))\n",
    "        cv2.line(print_img, (x1, y1), (x2, y2), (255, 0, 0), 1)\n"
   ],
   "outputs": [],
   "metadata": {}
  },
  {
   "cell_type": "code",
   "execution_count": 211,
   "source": [
    "plt.imshow(print_img,cmap='gray')"
   ],
   "outputs": [
    {
     "output_type": "execute_result",
     "data": {
      "text/plain": [
       "<matplotlib.image.AxesImage at 0x7f33185c6e10>"
      ]
     },
     "metadata": {},
     "execution_count": 211
    },
    {
     "output_type": "display_data",
     "data": {
      "text/plain": [
       "<Figure size 432x288 with 1 Axes>"
      ],
      "image/png": "[encoded data removed]"
     },
     "metadata": {
      "needs_background": "light"
     }
    }
   ],
   "metadata": {}
  },
  {
   "cell_type": "code",
   "execution_count": null,
   "source": [],
   "outputs": [],
   "metadata": {}
  },
  {
   "cell_type": "code",
   "execution_count": null,
   "source": [],
   "outputs": [],
   "metadata": {}
  }
 ],
 "metadata": {
  "orig_nbformat": 4,
  "language_info": {
   "name": "python",
   "version": "3.7.10",
   "mimetype": "text/x-python",
   "codemirror_mode": {
    "name": "ipython",
    "version": 3
   },
   "pygments_lexer": "ipython3",
   "nbconvert_exporter": "python",
   "file_extension": ".py"
  },
  "kernelspec": {
   "name": "python3",
   "display_name": "Python 3.7.10 64-bit ('yhpark': conda)"
  },
  "interpreter": {
   "hash": "1eae98e8f6204cb4db9f9f64888f3463f2ced8578e5a95a6c73b35d90ef031f1"
  }
 },
 "nbformat": 4,
 "nbformat_minor": 2
}