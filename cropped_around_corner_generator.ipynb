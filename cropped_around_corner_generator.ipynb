{
 "metadata": {
  "language_info": {
   "codemirror_mode": {
    "name": "ipython",
    "version": 3
   },
   "file_extension": ".py",
   "mimetype": "text/x-python",
   "name": "python",
   "nbconvert_exporter": "python",
   "pygments_lexer": "ipython3",
   "version": "3.7.10"
  },
  "orig_nbformat": 4,
  "kernelspec": {
   "name": "python3",
   "display_name": "Python 3.7.10 64-bit ('yhpark': conda)"
  },
  "interpreter": {
   "hash": "1eae98e8f6204cb4db9f9f64888f3463f2ced8578e5a95a6c73b35d90ef031f1"
  }
 },
 "nbformat": 4,
 "nbformat_minor": 2,
 "cells": [
  {
   "cell_type": "code",
   "execution_count": 57,
   "source": [
    "import numpy as np \n",
    "import matplotlib.pyplot as plt\n",
    "import cv2\n",
    "import torchvision.models as models\n",
    "import torch\n",
    "from torchvision import datasets, transforms as T\n",
    "import torch.nn as nn\n",
    "from PIL import Image\n",
    "from tqdm import tqdm\n",
    "from matplotlib.patches import Circle, Rectangle\n",
    "import matplotlib.ticker as plticker\n",
    "import os\n",
    "\n"
   ],
   "outputs": [],
   "metadata": {}
  },
  {
   "cell_type": "code",
   "execution_count": 78,
   "source": [
    "this_trial = 'trial_F'\n",
    "crop_name = 'crop_45_55_20'\n",
    "\n",
    "os.makedirs('../refinement_data/images_{}/{}'.format(crop_name, this_trial),exist_ok = True)\n",
    "os.makedirs('../refinement_data/ratio_labels_{}/{}'.format(crop_name, this_trial),exist_ok = True)\n",
    "os.makedirs('../refinement_data/pixel_labels_{}/{}'.format(crop_name, this_trial),exist_ok = True)\n",
    "\n",
    "min_size = 45\n",
    "max_size = 55\n",
    "safe_margin = 20\n",
    "\n",
    "random_generation = 10 ## number of random generation"
   ],
   "outputs": [],
   "metadata": {}
  },
  {
   "cell_type": "code",
   "execution_count": 79,
   "source": [
    "image_path = os.path.join('../yolo_data/images',this_trial)"
   ],
   "outputs": [],
   "metadata": {}
  },
  {
   "cell_type": "code",
   "execution_count": 80,
   "source": [
    "img_paths = []\n",
    "label_paths = []\n",
    "img_names = []\n",
    "for this_image in os.listdir(image_path):\n",
    "    img_paths.append(os.path.join(image_path,this_image))\n",
    "    label_paths.append(os.path.join('../yolo_data/pixel_labels/',this_trial,'{}.npy'.format(this_image[:-5])))\n",
    "    img_names.append(this_image[:-5])"
   ],
   "outputs": [],
   "metadata": {}
  },
  {
   "cell_type": "code",
   "execution_count": 81,
   "source": [
    "for i, this_image in enumerate(tqdm(img_paths)):\n",
    "    \n",
    "    img = Image.open(this_image)\n",
    "    label = np.load(label_paths[i])\n",
    "\n",
    "    for j in range(label.shape[0]):\n",
    "        \n",
    "        gx, gy = label[j]\n",
    "\n",
    "        for random_index in range(random_generation):\n",
    "\n",
    "            rand_size_width = np.random.randint(min_size,max_size)\n",
    "            ratio = 0.95+0.1*np.random.random()\n",
    "            rand_size_height = int(rand_size_width*ratio)\n",
    "\n",
    "            ax, ay = np.random.randint(safe_margin,rand_size_width-safe_margin), np.random.randint(safe_margin,rand_size_height-safe_margin)\n",
    "\n",
    "            bx, by = rand_size_width -ax, rand_size_height -ay\n",
    "\n",
    "            cropping_tuple = (gx-ax,gy-ay, gx+bx,gy+by)\n",
    "\n",
    "            # print(cropped_tuple_left)\n",
    "\n",
    "            cropped_img = img.crop(cropping_tuple)\n",
    "            \n",
    "            cropped_img.save(os.path.join('../refinement_data/images_{}/{}'.format(crop_name, this_trial),'{}_{}_{}.jpeg'.format(img_names[i],j,random_index)))\n",
    "\n",
    "            ratio_labels = np.array([ax/rand_size_width, ay/rand_size_height])\n",
    "            pixel_labels = np.array([ax,ay])\n",
    "            np.save(os.path.join('../refinement_data/ratio_labels_{}/{}'.format(crop_name, this_trial),'{}_{}_{}.npy'.format(img_names[i],j,random_index)), ratio_labels)\n",
    "            np.save(os.path.join('../refinement_data/pixel_labels_{}/{}'.format(crop_name, this_trial),'{}_{}_{}.npy'.format(img_names[i],j,random_index)), pixel_labels)"
   ],
   "outputs": [
    {
     "output_type": "stream",
     "name": "stderr",
     "text": [
      "100%|██████████| 364/364 [00:03<00:00, 112.53it/s]\n"
     ]
    }
   ],
   "metadata": {
    "tags": []
   }
  },
  {
   "cell_type": "code",
   "execution_count": 82,
   "source": [
    "np.random.randint(24,60)"
   ],
   "outputs": [
    {
     "output_type": "execute_result",
     "data": {
      "text/plain": [
       "25"
      ]
     },
     "metadata": {},
     "execution_count": 82
    }
   ],
   "metadata": {}
  },
  {
   "cell_type": "code",
   "execution_count": null,
   "source": [],
   "outputs": [],
   "metadata": {}
  }
 ]
}